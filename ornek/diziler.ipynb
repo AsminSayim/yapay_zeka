{
 "cells": [
  {
   "cell_type": "markdown",
   "id": "23896ed6-b89c-4109-b8fc-c23a70ff65ed",
   "metadata": {},
   "source": [
    "**Numpy Dizi İşlemler**"
   ]
  },
  {
   "cell_type": "code",
   "execution_count": 5,
   "id": "46ad32d5-72ec-4b11-8c58-46165e112072",
   "metadata": {},
   "outputs": [],
   "source": [
    "import numpy as np #numpy kütüphanesini np takma adı ile projeye dahil ediyoruz"
   ]
  },
  {
   "cell_type": "code",
   "execution_count": 6,
   "id": "f5004d37-53f0-4f51-a622-b14ba46a7469",
   "metadata": {},
   "outputs": [
    {
     "data": {
      "text/plain": [
       "array([[5, 5, 5],\n",
       "       [5, 5, 5],\n",
       "       [5, 5, 5],\n",
       "       [5, 5, 5]])"
      ]
     },
     "execution_count": 6,
     "metadata": {},
     "output_type": "execute_result"
    }
   ],
   "source": [
    "dizi = np.full((4, 3), 5)#4 satır ve 3 sütundan oluşan, her elemanı 5 olan bir NumPy dizisi oluşturur.\n",
    "dizi"
   ]
  },
  {
   "cell_type": "code",
   "execution_count": 7,
   "id": "52068054-c32b-406f-ba62-96837d583e89",
   "metadata": {},
   "outputs": [
    {
     "data": {
      "text/plain": [
       "array([1, 2, 3])"
      ]
     },
     "execution_count": 7,
     "metadata": {},
     "output_type": "execute_result"
    }
   ],
   "source": [
    "np.array([1,2,3])#yeni bir numpy dizisi oluşturur"
   ]
  },
  {
   "cell_type": "code",
   "execution_count": 8,
   "id": "89ee1c55-8820-4103-9eb0-72ab21de8e9c",
   "metadata": {},
   "outputs": [],
   "source": [
    "dizi=np.array([\"elma\",\"erik\",\"iğde\"])#oluşturduğumuz diziyi bir değişkene aktarıyoruz"
   ]
  },
  {
   "cell_type": "code",
   "execution_count": 11,
   "id": "30544115-adaf-418a-b3e5-efc775805424",
   "metadata": {},
   "outputs": [
    {
     "data": {
      "text/plain": [
       "array(['elma', 'erik', 'iğde'], dtype='<U4')"
      ]
     },
     "execution_count": 11,
     "metadata": {},
     "output_type": "execute_result"
    }
   ],
   "source": [
    "dizi"
   ]
  },
  {
   "cell_type": "code",
   "execution_count": 12,
   "id": "b3f214da-8549-4186-b08a-96c49f7d57b0",
   "metadata": {},
   "outputs": [],
   "source": [
    "dizi=np.array([1,2,3])# NumPy kullanarak 1, 2 ve 3 elemanlarından oluşan bir dizi (veya array) oluşturur.  "
   ]
  },
  {
   "cell_type": "code",
   "execution_count": 13,
   "id": "5ea539fd-f9a5-4d4f-bbe3-d22afa3a7dcf",
   "metadata": {},
   "outputs": [
    {
     "data": {
      "text/plain": [
       "array([1, 2, 3])"
      ]
     },
     "execution_count": 13,
     "metadata": {},
     "output_type": "execute_result"
    }
   ],
   "source": [
    "dizi"
   ]
  },
  {
   "cell_type": "code",
   "execution_count": 19,
   "id": "9c16efd0-74b9-4656-a026-2a2a54aef2ac",
   "metadata": {},
   "outputs": [],
   "source": [
    "dizi=np.array([1,2,3.14] , dtype=int)"
   ]
  },
  {
   "cell_type": "code",
   "execution_count": 20,
   "id": "7ced1dec-6f8b-4263-8009-ce5b6ebe96c6",
   "metadata": {},
   "outputs": [
    {
     "data": {
      "text/plain": [
       "array([1, 2, 3])"
      ]
     },
     "execution_count": 20,
     "metadata": {},
     "output_type": "execute_result"
    }
   ],
   "source": [
    "dizi"
   ]
  },
  {
   "cell_type": "code",
   "execution_count": 18,
   "id": "4184cfc0-7161-4e7e-a0ae-1244ef905152",
   "metadata": {},
   "outputs": [
    {
     "data": {
      "text/plain": [
       "dtype('float64')"
      ]
     },
     "execution_count": 18,
     "metadata": {},
     "output_type": "execute_result"
    }
   ],
   "source": [
    "dizi.dtype #dizinin değişken türünü verir.numpy dizilerinde elemanların hepsi aynı türdendir"
   ]
  },
  {
   "cell_type": "markdown",
   "id": "268bd4c6-ba75-462e-aa36-af6b90451283",
   "metadata": {},
   "source": [
    "**Numpy ile fark boyutları dizi oluşturma**"
   ]
  },
  {
   "cell_type": "code",
   "execution_count": 21,
   "id": "6093dd7c-ae40-4be1-88bb-0b818c8c9ee8",
   "metadata": {},
   "outputs": [],
   "source": [
    "#bir boyutlu dizi oluşturma\n",
    "birboyut=np.array([1,2,3,4])\n",
    "#iki boyutlu dizi oluşturma\n",
    "ikiboyut=np.array([[1,2,3,4],[5,6,7,8],[9,10,11,12]])"
   ]
  },
  {
   "cell_type": "code",
   "execution_count": 22,
   "id": "b9835b83-d560-48b2-b989-839a07f8c8ef",
   "metadata": {},
   "outputs": [
    {
     "data": {
      "text/plain": [
       "array([1, 2, 3, 4])"
      ]
     },
     "execution_count": 22,
     "metadata": {},
     "output_type": "execute_result"
    }
   ],
   "source": [
    "birboyut"
   ]
  },
  {
   "cell_type": "code",
   "execution_count": 23,
   "id": "8995bacf-d7e1-4be4-a50b-e3328d4bb05f",
   "metadata": {},
   "outputs": [
    {
     "data": {
      "text/plain": [
       "array([[ 1,  2,  3,  4],\n",
       "       [ 5,  6,  7,  8],\n",
       "       [ 9, 10, 11, 12]])"
      ]
     },
     "execution_count": 23,
     "metadata": {},
     "output_type": "execute_result"
    }
   ],
   "source": [
    "ikiboyut"
   ]
  },
  {
   "cell_type": "markdown",
   "id": "09302fab-3137-48a0-83bd-788d55f93c02",
   "metadata": {},
   "source": [
    "**Numpy yer tutucular**"
   ]
  },
  {
   "cell_type": "code",
   "execution_count": 24,
   "id": "5814c20b-b735-4b0e-a19f-85f12c20fc8f",
   "metadata": {},
   "outputs": [
    {
     "data": {
      "text/plain": [
       "array([0., 0., 0., 0., 0., 0., 0.])"
      ]
     },
     "execution_count": 24,
     "metadata": {},
     "output_type": "execute_result"
    }
   ],
   "source": [
    "np.zeros(7)#7 sıfırdan oluşan tek boyutlu dizi oluşturur"
   ]
  },
  {
   "cell_type": "code",
   "execution_count": 25,
   "id": "499bb79e-b856-43d5-8a0c-9f2eff25b855",
   "metadata": {},
   "outputs": [
    {
     "data": {
      "text/plain": [
       "array([[0, 0, 0],\n",
       "       [0, 0, 0]])"
      ]
     },
     "execution_count": 25,
     "metadata": {},
     "output_type": "execute_result"
    }
   ],
   "source": [
    "np.zeros((2,3),dtype=int)#* sıfırdan oluşan 2 boyutlu int dizi oluşturur"
   ]
  },
  {
   "cell_type": "code",
   "execution_count": 26,
   "id": "046d3eb6-9f0a-4baa-ae9e-87fe1a2b10f2",
   "metadata": {},
   "outputs": [
    {
     "data": {
      "text/plain": [
       "array([1., 1., 1.])"
      ]
     },
     "execution_count": 26,
     "metadata": {},
     "output_type": "execute_result"
    }
   ],
   "source": [
    "np.ones(3)#3 elemanlı bir dizi oluşturur ve bu elemanların her biri 1.0 değerine sahiptir."
   ]
  },
  {
   "cell_type": "code",
   "execution_count": 27,
   "id": "daf23bb5-c9ed-45c8-92ba-7921812403e6",
   "metadata": {},
   "outputs": [
    {
     "data": {
      "text/plain": [
       "array([[5, 5, 5],\n",
       "       [5, 5, 5],\n",
       "       [5, 5, 5],\n",
       "       [5, 5, 5]])"
      ]
     },
     "execution_count": 27,
     "metadata": {},
     "output_type": "execute_result"
    }
   ],
   "source": [
    "np.full((4,3),5)#5sayısından oluşan 2*3 lük dizi"
   ]
  },
  {
   "cell_type": "code",
   "execution_count": 28,
   "id": "ad5b2d57-ed1d-4e39-b1c0-3046433e16ce",
   "metadata": {},
   "outputs": [
    {
     "data": {
      "text/plain": [
       "array([ 2,  7, 12, 17])"
      ]
     },
     "execution_count": 28,
     "metadata": {},
     "output_type": "execute_result"
    }
   ],
   "source": [
    "np.arange(2,22,5)#başlangıç,bitiş ve artış değerine göre dizi oluşturma"
   ]
  },
  {
   "cell_type": "code",
   "execution_count": 29,
   "id": "c1bbfcc7-2dc2-46c6-a5b0-8eb8962b2198",
   "metadata": {},
   "outputs": [
    {
     "data": {
      "text/plain": [
       "array([ 2.        ,  3.33333333,  4.66666667,  6.        ,  7.33333333,\n",
       "        8.66666667, 10.        ])"
      ]
     },
     "execution_count": 29,
     "metadata": {},
     "output_type": "execute_result"
    }
   ],
   "source": [
    "np.linspace(2,10,num=7)#başlangıç ve bitiş değer aralığında belirtilen miktarda eşit aralık "
   ]
  },
  {
   "cell_type": "code",
   "execution_count": 30,
   "id": "a3816b12-828e-43a6-b355-6632a3c278d1",
   "metadata": {},
   "outputs": [
    {
     "data": {
      "text/plain": [
       "array([1, 7, 2, 3, 6])"
      ]
     },
     "execution_count": 30,
     "metadata": {},
     "output_type": "execute_result"
    }
   ],
   "source": [
    "np.random.randint(0,10,5)#0-10 aralığında rastgele 5 sayıdan oluşan bir boyutlu dizi"
   ]
  },
  {
   "cell_type": "code",
   "execution_count": 32,
   "id": "e952e9dd-c34d-4d93-b47f-695b4de8cbc9",
   "metadata": {},
   "outputs": [
    {
     "data": {
      "text/plain": [
       "array([[0, 0],\n",
       "       [7, 7],\n",
       "       [4, 1],\n",
       "       [1, 9],\n",
       "       [8, 0]])"
      ]
     },
     "execution_count": 32,
     "metadata": {},
     "output_type": "execute_result"
    }
   ],
   "source": [
    "np.random.randint(0,10,(5,2))#0-10 aralığında 5*2 rastgele sayıdan oluşan 2 boyutlu dizi"
   ]
  },
  {
   "cell_type": "markdown",
   "id": "55b5a018-5d70-4cf0-9223-0f9007acf416",
   "metadata": {},
   "source": [
    "**Diziler ile ilgili işlemler**"
   ]
  },
  {
   "cell_type": "code",
   "execution_count": 33,
   "id": "7c436d4c-77bc-4716-8b7c-665400e181cc",
   "metadata": {},
   "outputs": [
    {
     "data": {
      "text/plain": [
       "(3, 4)"
      ]
     },
     "execution_count": 33,
     "metadata": {},
     "output_type": "execute_result"
    }
   ],
   "source": [
    "#dizilerin eleman sayısını öğrenmek için shape komutu kullanılır\n",
    "dizi=np.array([[1,2,3,4],[5,6,7,8],[9,10,11,12]])\n",
    "dizi.shape"
   ]
  },
  {
   "cell_type": "code",
   "execution_count": 34,
   "id": "8dc53472-d9b8-4f84-b008-9bde08fc4168",
   "metadata": {},
   "outputs": [
    {
     "data": {
      "text/plain": [
       "2"
      ]
     },
     "execution_count": 34,
     "metadata": {},
     "output_type": "execute_result"
    }
   ],
   "source": [
    "#ndim dizi boyutunu öğrenmek için kullanılır\n",
    "dizi.ndim"
   ]
  },
  {
   "cell_type": "code",
   "execution_count": 35,
   "id": "f6c10fa8-33b2-4a80-acc7-b0b78ebd85e5",
   "metadata": {},
   "outputs": [
    {
     "data": {
      "text/plain": [
       "12"
      ]
     },
     "execution_count": 35,
     "metadata": {},
     "output_type": "execute_result"
    }
   ],
   "source": [
    "#size dizideki toplam eleman sayısını gösterir\n",
    "dizi.size"
   ]
  },
  {
   "cell_type": "code",
   "execution_count": 37,
   "id": "a883d16f-cd59-4c66-9f66-10e0d9d5b07e",
   "metadata": {},
   "outputs": [
    {
     "data": {
      "text/plain": [
       "4"
      ]
     },
     "execution_count": 37,
     "metadata": {},
     "output_type": "execute_result"
    }
   ],
   "source": [
    "dizi.itemsize#dizideki her bir elemanın bayt cinsinden değerini verir"
   ]
  },
  {
   "cell_type": "code",
   "execution_count": 38,
   "id": "49f0fae9-bae7-41ba-9f41-4c1803b7dd84",
   "metadata": {},
   "outputs": [],
   "source": [
    "dizi = np.random.randint(0, 100,(5, 7))#5 satır 7 sütun olacak şekilde rastgele sayılardan oluşan int turunde bir dizi"
   ]
  },
  {
   "cell_type": "code",
   "execution_count": 39,
   "id": "4b430e16-277f-447e-bcd9-ad0c1b4acda1",
   "metadata": {},
   "outputs": [
    {
     "data": {
      "text/plain": [
       "array([[40, 84, 85, 75, 65, 57, 62],\n",
       "       [ 1, 73, 30, 73, 50, 33, 57],\n",
       "       [53, 70, 49, 98, 24, 57, 36],\n",
       "       [46, 87, 72, 23, 53, 84, 39],\n",
       "       [70, 68, 70, 49, 76, 27, 24]])"
      ]
     },
     "execution_count": 39,
     "metadata": {},
     "output_type": "execute_result"
    }
   ],
   "source": [
    "dizi"
   ]
  }
 ],
 "metadata": {
  "kernelspec": {
   "display_name": "Python 3 (ipykernel)",
   "language": "python",
   "name": "python3"
  },
  "language_info": {
   "codemirror_mode": {
    "name": "ipython",
    "version": 3
   },
   "file_extension": ".py",
   "mimetype": "text/x-python",
   "name": "python",
   "nbconvert_exporter": "python",
   "pygments_lexer": "ipython3",
   "version": "3.11.7"
  }
 },
 "nbformat": 4,
 "nbformat_minor": 5
}
